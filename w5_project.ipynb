{
 "cells": [
  {
   "cell_type": "code",
   "execution_count": 1,
   "id": "54b8d13a-d3b9-49fb-944b-14e20166393a",
   "metadata": {},
   "outputs": [],
   "source": [
    "import pandas as pd\n",
    "import numpy as np\n",
    "import matplotlib.pyplot as plt\n",
    "import seaborn as sns"
   ]
  },
  {
   "cell_type": "code",
   "execution_count": 3,
   "id": "1b595fc4-b2c6-4fad-a93c-7790f4272798",
   "metadata": {
    "scrolled": true,
    "tags": []
   },
   "outputs": [
    {
     "name": "stderr",
     "output_type": "stream",
     "text": [
      "C:\\Users\\anaco\\anaconda3\\lib\\site-packages\\IPython\\core\\interactiveshell.py:3444: DtypeWarning: Columns (70,71,72,73,74,76,79) have mixed types.Specify dtype option on import or set low_memory=False.\n",
      "  exec(code_obj, self.user_global_ns, self.user_ns)\n"
     ]
    },
    {
     "data": {
      "text/html": [
       "<div>\n",
       "<style scoped>\n",
       "    .dataframe tbody tr th:only-of-type {\n",
       "        vertical-align: middle;\n",
       "    }\n",
       "\n",
       "    .dataframe tbody tr th {\n",
       "        vertical-align: top;\n",
       "    }\n",
       "\n",
       "    .dataframe thead th {\n",
       "        text-align: right;\n",
       "    }\n",
       "</style>\n",
       "<table border=\"1\" class=\"dataframe\">\n",
       "  <thead>\n",
       "    <tr style=\"text-align: right;\">\n",
       "      <th></th>\n",
       "      <th>barrels08</th>\n",
       "      <th>barrelsA08</th>\n",
       "      <th>charge120</th>\n",
       "      <th>charge240</th>\n",
       "      <th>city08</th>\n",
       "      <th>city08U</th>\n",
       "      <th>cityA08</th>\n",
       "      <th>cityA08U</th>\n",
       "      <th>cityCD</th>\n",
       "      <th>cityE</th>\n",
       "      <th>...</th>\n",
       "      <th>mfrCode</th>\n",
       "      <th>c240Dscr</th>\n",
       "      <th>charge240b</th>\n",
       "      <th>c240bDscr</th>\n",
       "      <th>createdOn</th>\n",
       "      <th>modifiedOn</th>\n",
       "      <th>startStop</th>\n",
       "      <th>phevCity</th>\n",
       "      <th>phevHwy</th>\n",
       "      <th>phevComb</th>\n",
       "    </tr>\n",
       "  </thead>\n",
       "  <tbody>\n",
       "    <tr>\n",
       "      <th>0</th>\n",
       "      <td>14.167143</td>\n",
       "      <td>0.0</td>\n",
       "      <td>0.0</td>\n",
       "      <td>0.0</td>\n",
       "      <td>19</td>\n",
       "      <td>0.0</td>\n",
       "      <td>0</td>\n",
       "      <td>0.0</td>\n",
       "      <td>0.0</td>\n",
       "      <td>0.0</td>\n",
       "      <td>...</td>\n",
       "      <td>NaN</td>\n",
       "      <td>NaN</td>\n",
       "      <td>0.0</td>\n",
       "      <td>NaN</td>\n",
       "      <td>Tue Jan 01 00:00:00 EST 2013</td>\n",
       "      <td>Tue Jan 01 00:00:00 EST 2013</td>\n",
       "      <td>NaN</td>\n",
       "      <td>0</td>\n",
       "      <td>0</td>\n",
       "      <td>0</td>\n",
       "    </tr>\n",
       "    <tr>\n",
       "      <th>1</th>\n",
       "      <td>27.046364</td>\n",
       "      <td>0.0</td>\n",
       "      <td>0.0</td>\n",
       "      <td>0.0</td>\n",
       "      <td>9</td>\n",
       "      <td>0.0</td>\n",
       "      <td>0</td>\n",
       "      <td>0.0</td>\n",
       "      <td>0.0</td>\n",
       "      <td>0.0</td>\n",
       "      <td>...</td>\n",
       "      <td>NaN</td>\n",
       "      <td>NaN</td>\n",
       "      <td>0.0</td>\n",
       "      <td>NaN</td>\n",
       "      <td>Tue Jan 01 00:00:00 EST 2013</td>\n",
       "      <td>Tue Jan 01 00:00:00 EST 2013</td>\n",
       "      <td>NaN</td>\n",
       "      <td>0</td>\n",
       "      <td>0</td>\n",
       "      <td>0</td>\n",
       "    </tr>\n",
       "    <tr>\n",
       "      <th>2</th>\n",
       "      <td>11.018889</td>\n",
       "      <td>0.0</td>\n",
       "      <td>0.0</td>\n",
       "      <td>0.0</td>\n",
       "      <td>23</td>\n",
       "      <td>0.0</td>\n",
       "      <td>0</td>\n",
       "      <td>0.0</td>\n",
       "      <td>0.0</td>\n",
       "      <td>0.0</td>\n",
       "      <td>...</td>\n",
       "      <td>NaN</td>\n",
       "      <td>NaN</td>\n",
       "      <td>0.0</td>\n",
       "      <td>NaN</td>\n",
       "      <td>Tue Jan 01 00:00:00 EST 2013</td>\n",
       "      <td>Tue Jan 01 00:00:00 EST 2013</td>\n",
       "      <td>NaN</td>\n",
       "      <td>0</td>\n",
       "      <td>0</td>\n",
       "      <td>0</td>\n",
       "    </tr>\n",
       "    <tr>\n",
       "      <th>3</th>\n",
       "      <td>27.046364</td>\n",
       "      <td>0.0</td>\n",
       "      <td>0.0</td>\n",
       "      <td>0.0</td>\n",
       "      <td>10</td>\n",
       "      <td>0.0</td>\n",
       "      <td>0</td>\n",
       "      <td>0.0</td>\n",
       "      <td>0.0</td>\n",
       "      <td>0.0</td>\n",
       "      <td>...</td>\n",
       "      <td>NaN</td>\n",
       "      <td>NaN</td>\n",
       "      <td>0.0</td>\n",
       "      <td>NaN</td>\n",
       "      <td>Tue Jan 01 00:00:00 EST 2013</td>\n",
       "      <td>Tue Jan 01 00:00:00 EST 2013</td>\n",
       "      <td>NaN</td>\n",
       "      <td>0</td>\n",
       "      <td>0</td>\n",
       "      <td>0</td>\n",
       "    </tr>\n",
       "    <tr>\n",
       "      <th>4</th>\n",
       "      <td>15.658421</td>\n",
       "      <td>0.0</td>\n",
       "      <td>0.0</td>\n",
       "      <td>0.0</td>\n",
       "      <td>17</td>\n",
       "      <td>0.0</td>\n",
       "      <td>0</td>\n",
       "      <td>0.0</td>\n",
       "      <td>0.0</td>\n",
       "      <td>0.0</td>\n",
       "      <td>...</td>\n",
       "      <td>NaN</td>\n",
       "      <td>NaN</td>\n",
       "      <td>0.0</td>\n",
       "      <td>NaN</td>\n",
       "      <td>Tue Jan 01 00:00:00 EST 2013</td>\n",
       "      <td>Tue Jan 01 00:00:00 EST 2013</td>\n",
       "      <td>NaN</td>\n",
       "      <td>0</td>\n",
       "      <td>0</td>\n",
       "      <td>0</td>\n",
       "    </tr>\n",
       "    <tr>\n",
       "      <th>...</th>\n",
       "      <td>...</td>\n",
       "      <td>...</td>\n",
       "      <td>...</td>\n",
       "      <td>...</td>\n",
       "      <td>...</td>\n",
       "      <td>...</td>\n",
       "      <td>...</td>\n",
       "      <td>...</td>\n",
       "      <td>...</td>\n",
       "      <td>...</td>\n",
       "      <td>...</td>\n",
       "      <td>...</td>\n",
       "      <td>...</td>\n",
       "      <td>...</td>\n",
       "      <td>...</td>\n",
       "      <td>...</td>\n",
       "      <td>...</td>\n",
       "      <td>...</td>\n",
       "      <td>...</td>\n",
       "      <td>...</td>\n",
       "      <td>...</td>\n",
       "    </tr>\n",
       "    <tr>\n",
       "      <th>44821</th>\n",
       "      <td>13.523182</td>\n",
       "      <td>0.0</td>\n",
       "      <td>0.0</td>\n",
       "      <td>0.0</td>\n",
       "      <td>19</td>\n",
       "      <td>0.0</td>\n",
       "      <td>0</td>\n",
       "      <td>0.0</td>\n",
       "      <td>0.0</td>\n",
       "      <td>0.0</td>\n",
       "      <td>...</td>\n",
       "      <td>NaN</td>\n",
       "      <td>NaN</td>\n",
       "      <td>0.0</td>\n",
       "      <td>NaN</td>\n",
       "      <td>Tue Jan 01 00:00:00 EST 2013</td>\n",
       "      <td>Tue Jan 01 00:00:00 EST 2013</td>\n",
       "      <td>NaN</td>\n",
       "      <td>0</td>\n",
       "      <td>0</td>\n",
       "      <td>0</td>\n",
       "    </tr>\n",
       "    <tr>\n",
       "      <th>44822</th>\n",
       "      <td>12.935217</td>\n",
       "      <td>0.0</td>\n",
       "      <td>0.0</td>\n",
       "      <td>0.0</td>\n",
       "      <td>20</td>\n",
       "      <td>0.0</td>\n",
       "      <td>0</td>\n",
       "      <td>0.0</td>\n",
       "      <td>0.0</td>\n",
       "      <td>0.0</td>\n",
       "      <td>...</td>\n",
       "      <td>NaN</td>\n",
       "      <td>NaN</td>\n",
       "      <td>0.0</td>\n",
       "      <td>NaN</td>\n",
       "      <td>Tue Jan 01 00:00:00 EST 2013</td>\n",
       "      <td>Tue Jan 01 00:00:00 EST 2013</td>\n",
       "      <td>NaN</td>\n",
       "      <td>0</td>\n",
       "      <td>0</td>\n",
       "      <td>0</td>\n",
       "    </tr>\n",
       "    <tr>\n",
       "      <th>44823</th>\n",
       "      <td>14.167143</td>\n",
       "      <td>0.0</td>\n",
       "      <td>0.0</td>\n",
       "      <td>0.0</td>\n",
       "      <td>18</td>\n",
       "      <td>0.0</td>\n",
       "      <td>0</td>\n",
       "      <td>0.0</td>\n",
       "      <td>0.0</td>\n",
       "      <td>0.0</td>\n",
       "      <td>...</td>\n",
       "      <td>NaN</td>\n",
       "      <td>NaN</td>\n",
       "      <td>0.0</td>\n",
       "      <td>NaN</td>\n",
       "      <td>Tue Jan 01 00:00:00 EST 2013</td>\n",
       "      <td>Tue Jan 01 00:00:00 EST 2013</td>\n",
       "      <td>NaN</td>\n",
       "      <td>0</td>\n",
       "      <td>0</td>\n",
       "      <td>0</td>\n",
       "    </tr>\n",
       "    <tr>\n",
       "      <th>44824</th>\n",
       "      <td>14.167143</td>\n",
       "      <td>0.0</td>\n",
       "      <td>0.0</td>\n",
       "      <td>0.0</td>\n",
       "      <td>18</td>\n",
       "      <td>0.0</td>\n",
       "      <td>0</td>\n",
       "      <td>0.0</td>\n",
       "      <td>0.0</td>\n",
       "      <td>0.0</td>\n",
       "      <td>...</td>\n",
       "      <td>NaN</td>\n",
       "      <td>NaN</td>\n",
       "      <td>0.0</td>\n",
       "      <td>NaN</td>\n",
       "      <td>Tue Jan 01 00:00:00 EST 2013</td>\n",
       "      <td>Tue Jan 01 00:00:00 EST 2013</td>\n",
       "      <td>NaN</td>\n",
       "      <td>0</td>\n",
       "      <td>0</td>\n",
       "      <td>0</td>\n",
       "    </tr>\n",
       "    <tr>\n",
       "      <th>44825</th>\n",
       "      <td>16.528333</td>\n",
       "      <td>0.0</td>\n",
       "      <td>0.0</td>\n",
       "      <td>0.0</td>\n",
       "      <td>16</td>\n",
       "      <td>0.0</td>\n",
       "      <td>0</td>\n",
       "      <td>0.0</td>\n",
       "      <td>0.0</td>\n",
       "      <td>0.0</td>\n",
       "      <td>...</td>\n",
       "      <td>NaN</td>\n",
       "      <td>NaN</td>\n",
       "      <td>0.0</td>\n",
       "      <td>NaN</td>\n",
       "      <td>Tue Jan 01 00:00:00 EST 2013</td>\n",
       "      <td>Tue Jan 01 00:00:00 EST 2013</td>\n",
       "      <td>NaN</td>\n",
       "      <td>0</td>\n",
       "      <td>0</td>\n",
       "      <td>0</td>\n",
       "    </tr>\n",
       "  </tbody>\n",
       "</table>\n",
       "<p>44826 rows × 83 columns</p>\n",
       "</div>"
      ],
      "text/plain": [
       "       barrels08  barrelsA08  charge120  charge240  city08  city08U  cityA08  \\\n",
       "0      14.167143         0.0        0.0        0.0      19      0.0        0   \n",
       "1      27.046364         0.0        0.0        0.0       9      0.0        0   \n",
       "2      11.018889         0.0        0.0        0.0      23      0.0        0   \n",
       "3      27.046364         0.0        0.0        0.0      10      0.0        0   \n",
       "4      15.658421         0.0        0.0        0.0      17      0.0        0   \n",
       "...          ...         ...        ...        ...     ...      ...      ...   \n",
       "44821  13.523182         0.0        0.0        0.0      19      0.0        0   \n",
       "44822  12.935217         0.0        0.0        0.0      20      0.0        0   \n",
       "44823  14.167143         0.0        0.0        0.0      18      0.0        0   \n",
       "44824  14.167143         0.0        0.0        0.0      18      0.0        0   \n",
       "44825  16.528333         0.0        0.0        0.0      16      0.0        0   \n",
       "\n",
       "       cityA08U  cityCD  cityE  ...  mfrCode  c240Dscr  charge240b  c240bDscr  \\\n",
       "0           0.0     0.0    0.0  ...      NaN       NaN         0.0        NaN   \n",
       "1           0.0     0.0    0.0  ...      NaN       NaN         0.0        NaN   \n",
       "2           0.0     0.0    0.0  ...      NaN       NaN         0.0        NaN   \n",
       "3           0.0     0.0    0.0  ...      NaN       NaN         0.0        NaN   \n",
       "4           0.0     0.0    0.0  ...      NaN       NaN         0.0        NaN   \n",
       "...         ...     ...    ...  ...      ...       ...         ...        ...   \n",
       "44821       0.0     0.0    0.0  ...      NaN       NaN         0.0        NaN   \n",
       "44822       0.0     0.0    0.0  ...      NaN       NaN         0.0        NaN   \n",
       "44823       0.0     0.0    0.0  ...      NaN       NaN         0.0        NaN   \n",
       "44824       0.0     0.0    0.0  ...      NaN       NaN         0.0        NaN   \n",
       "44825       0.0     0.0    0.0  ...      NaN       NaN         0.0        NaN   \n",
       "\n",
       "                          createdOn                    modifiedOn  startStop  \\\n",
       "0      Tue Jan 01 00:00:00 EST 2013  Tue Jan 01 00:00:00 EST 2013        NaN   \n",
       "1      Tue Jan 01 00:00:00 EST 2013  Tue Jan 01 00:00:00 EST 2013        NaN   \n",
       "2      Tue Jan 01 00:00:00 EST 2013  Tue Jan 01 00:00:00 EST 2013        NaN   \n",
       "3      Tue Jan 01 00:00:00 EST 2013  Tue Jan 01 00:00:00 EST 2013        NaN   \n",
       "4      Tue Jan 01 00:00:00 EST 2013  Tue Jan 01 00:00:00 EST 2013        NaN   \n",
       "...                             ...                           ...        ...   \n",
       "44821  Tue Jan 01 00:00:00 EST 2013  Tue Jan 01 00:00:00 EST 2013        NaN   \n",
       "44822  Tue Jan 01 00:00:00 EST 2013  Tue Jan 01 00:00:00 EST 2013        NaN   \n",
       "44823  Tue Jan 01 00:00:00 EST 2013  Tue Jan 01 00:00:00 EST 2013        NaN   \n",
       "44824  Tue Jan 01 00:00:00 EST 2013  Tue Jan 01 00:00:00 EST 2013        NaN   \n",
       "44825  Tue Jan 01 00:00:00 EST 2013  Tue Jan 01 00:00:00 EST 2013        NaN   \n",
       "\n",
       "       phevCity  phevHwy  phevComb  \n",
       "0             0        0         0  \n",
       "1             0        0         0  \n",
       "2             0        0         0  \n",
       "3             0        0         0  \n",
       "4             0        0         0  \n",
       "...         ...      ...       ...  \n",
       "44821         0        0         0  \n",
       "44822         0        0         0  \n",
       "44823         0        0         0  \n",
       "44824         0        0         0  \n",
       "44825         0        0         0  \n",
       "\n",
       "[44826 rows x 83 columns]"
      ]
     },
     "execution_count": 3,
     "metadata": {},
     "output_type": "execute_result"
    }
   ],
   "source": [
    "fueleco= pd.read_csv('vehicles.csv.zip')\n",
    "fueleco"
   ]
  },
  {
   "cell_type": "code",
   "execution_count": 6,
   "id": "7c5618b0-ec90-4d9d-9341-a8729b5b4c38",
   "metadata": {
    "scrolled": true,
    "tags": []
   },
   "outputs": [
    {
     "name": "stdout",
     "output_type": "stream",
     "text": [
      "<class 'pandas.core.frame.DataFrame'>\n",
      "RangeIndex: 44826 entries, 0 to 44825\n",
      "Data columns (total 59 columns):\n",
      " #   Column           Non-Null Count  Dtype  \n",
      "---  ------           --------------  -----  \n",
      " 0   barrels08        44826 non-null  float64\n",
      " 1   barrelsA08       44826 non-null  float64\n",
      " 2   charge120        44826 non-null  float64\n",
      " 3   charge240        44826 non-null  float64\n",
      " 4   city08           44826 non-null  int64  \n",
      " 5   city08U          44826 non-null  float64\n",
      " 6   cityA08          44826 non-null  int64  \n",
      " 7   cityA08U         44826 non-null  float64\n",
      " 8   cityCD           44826 non-null  float64\n",
      " 9   cityE            44826 non-null  float64\n",
      " 10  cityUF           44826 non-null  float64\n",
      " 11  co2              44826 non-null  int64  \n",
      " 12  co2A             44826 non-null  int64  \n",
      " 13  co2TailpipeAGpm  44826 non-null  float64\n",
      " 14  co2TailpipeGpm   44826 non-null  float64\n",
      " 15  comb08           44826 non-null  int64  \n",
      " 16  comb08U          44826 non-null  float64\n",
      " 17  combA08          44826 non-null  int64  \n",
      " 18  combA08U         44826 non-null  float64\n",
      " 19  combE            44826 non-null  float64\n",
      " 20  combinedCD       44826 non-null  float64\n",
      " 21  combinedUF       44826 non-null  float64\n",
      " 22  cylinders        44451 non-null  float64\n",
      " 23  displ            44453 non-null  float64\n",
      " 24  engId            44826 non-null  int64  \n",
      " 25  feScore          44826 non-null  int64  \n",
      " 26  fuelCost08       44826 non-null  int64  \n",
      " 27  fuelCostA08      44826 non-null  int64  \n",
      " 28  ghgScore         44826 non-null  int64  \n",
      " 29  ghgScoreA        44826 non-null  int64  \n",
      " 30  highway08        44826 non-null  int64  \n",
      " 31  highway08U       44826 non-null  float64\n",
      " 32  highwayA08       44826 non-null  int64  \n",
      " 33  highwayA08U      44826 non-null  float64\n",
      " 34  highwayCD        44826 non-null  float64\n",
      " 35  highwayE         44826 non-null  float64\n",
      " 36  highwayUF        44826 non-null  float64\n",
      " 37  hlv              44826 non-null  int64  \n",
      " 38  hpv              44826 non-null  int64  \n",
      " 39  id               44826 non-null  int64  \n",
      " 40  lv2              44826 non-null  int64  \n",
      " 41  lv4              44826 non-null  int64  \n",
      " 42  pv2              44826 non-null  int64  \n",
      " 43  pv4              44826 non-null  int64  \n",
      " 44  range            44826 non-null  int64  \n",
      " 45  rangeCity        44826 non-null  float64\n",
      " 46  rangeCityA       44826 non-null  float64\n",
      " 47  rangeHwy         44826 non-null  float64\n",
      " 48  rangeHwyA        44826 non-null  float64\n",
      " 49  UCity            44826 non-null  float64\n",
      " 50  UCityA           44826 non-null  float64\n",
      " 51  UHighway         44826 non-null  float64\n",
      " 52  UHighwayA        44826 non-null  float64\n",
      " 53  year             44826 non-null  int64  \n",
      " 54  youSaveSpend     44826 non-null  int64  \n",
      " 55  charge240b       44826 non-null  float64\n",
      " 56  phevCity         44826 non-null  int64  \n",
      " 57  phevHwy          44826 non-null  int64  \n",
      " 58  phevComb         44826 non-null  int64  \n",
      "dtypes: float64(32), int64(27)\n",
      "memory usage: 20.2 MB\n"
     ]
    }
   ],
   "source": [
    "fueleco.select_dtypes(include='number').info()"
   ]
  },
  {
   "cell_type": "code",
   "execution_count": 7,
   "id": "12490f6e-b6c7-4e61-bca7-9a37cca2601c",
   "metadata": {
    "scrolled": true,
    "tags": []
   },
   "outputs": [
    {
     "name": "stdout",
     "output_type": "stream",
     "text": [
      "<class 'pandas.core.frame.DataFrame'>\n",
      "RangeIndex: 44826 entries, 0 to 44825\n",
      "Data columns (total 23 columns):\n",
      " #   Column      Non-Null Count  Dtype \n",
      "---  ------      --------------  ----- \n",
      " 0   drive       43640 non-null  object\n",
      " 1   eng_dscr    28030 non-null  object\n",
      " 2   fuelType    44826 non-null  object\n",
      " 3   fuelType1   44826 non-null  object\n",
      " 4   make        44826 non-null  object\n",
      " 5   model       44826 non-null  object\n",
      " 6   mpgData     44787 non-null  object\n",
      " 7   trany       44815 non-null  object\n",
      " 8   VClass      44826 non-null  object\n",
      " 9   guzzler     2627 non-null   object\n",
      " 10  trans_dscr  15044 non-null  object\n",
      " 11  tCharger    8890 non-null   object\n",
      " 12  sCharger    966 non-null    object\n",
      " 13  atvType     4332 non-null   object\n",
      " 14  fuelType2   1800 non-null   object\n",
      " 15  rangeA      1795 non-null   object\n",
      " 16  evMotor     1518 non-null   object\n",
      " 17  mfrCode     14018 non-null  object\n",
      " 18  c240Dscr    131 non-null    object\n",
      " 19  c240bDscr   125 non-null    object\n",
      " 20  createdOn   44826 non-null  object\n",
      " 21  modifiedOn  44826 non-null  object\n",
      " 22  startStop   13137 non-null  object\n",
      "dtypes: object(23)\n",
      "memory usage: 7.9+ MB\n"
     ]
    }
   ],
   "source": [
    "fueleco.select_dtypes(include='O').info()"
   ]
  },
  {
   "cell_type": "code",
   "execution_count": 8,
   "id": "7bafc67f-7187-43a1-b3e9-ae1b874e13cd",
   "metadata": {
    "scrolled": true,
    "tags": []
   },
   "outputs": [
    {
     "data": {
      "text/html": [
       "<div>\n",
       "<style scoped>\n",
       "    .dataframe tbody tr th:only-of-type {\n",
       "        vertical-align: middle;\n",
       "    }\n",
       "\n",
       "    .dataframe tbody tr th {\n",
       "        vertical-align: top;\n",
       "    }\n",
       "\n",
       "    .dataframe thead th {\n",
       "        text-align: right;\n",
       "    }\n",
       "</style>\n",
       "<table border=\"1\" class=\"dataframe\">\n",
       "  <thead>\n",
       "    <tr style=\"text-align: right;\">\n",
       "      <th></th>\n",
       "      <th>count</th>\n",
       "      <th>unique</th>\n",
       "      <th>top</th>\n",
       "      <th>freq</th>\n",
       "    </tr>\n",
       "  </thead>\n",
       "  <tbody>\n",
       "    <tr>\n",
       "      <th>drive</th>\n",
       "      <td>43640</td>\n",
       "      <td>7</td>\n",
       "      <td>Front-Wheel Drive</td>\n",
       "      <td>15028</td>\n",
       "    </tr>\n",
       "    <tr>\n",
       "      <th>eng_dscr</th>\n",
       "      <td>28030</td>\n",
       "      <td>573</td>\n",
       "      <td>(FFS)</td>\n",
       "      <td>8827</td>\n",
       "    </tr>\n",
       "    <tr>\n",
       "      <th>fuelType</th>\n",
       "      <td>44826</td>\n",
       "      <td>14</td>\n",
       "      <td>Regular</td>\n",
       "      <td>27948</td>\n",
       "    </tr>\n",
       "    <tr>\n",
       "      <th>fuelType1</th>\n",
       "      <td>44826</td>\n",
       "      <td>6</td>\n",
       "      <td>Regular Gasoline</td>\n",
       "      <td>29429</td>\n",
       "    </tr>\n",
       "    <tr>\n",
       "      <th>make</th>\n",
       "      <td>44826</td>\n",
       "      <td>141</td>\n",
       "      <td>Chevrolet</td>\n",
       "      <td>4270</td>\n",
       "    </tr>\n",
       "    <tr>\n",
       "      <th>model</th>\n",
       "      <td>44826</td>\n",
       "      <td>4623</td>\n",
       "      <td>F150 Pickup 2WD</td>\n",
       "      <td>230</td>\n",
       "    </tr>\n",
       "    <tr>\n",
       "      <th>mpgData</th>\n",
       "      <td>44787</td>\n",
       "      <td>2</td>\n",
       "      <td>N</td>\n",
       "      <td>30930</td>\n",
       "    </tr>\n",
       "    <tr>\n",
       "      <th>trany</th>\n",
       "      <td>44815</td>\n",
       "      <td>40</td>\n",
       "      <td>Automatic 4-spd</td>\n",
       "      <td>11048</td>\n",
       "    </tr>\n",
       "    <tr>\n",
       "      <th>VClass</th>\n",
       "      <td>44826</td>\n",
       "      <td>34</td>\n",
       "      <td>Compact Cars</td>\n",
       "      <td>6189</td>\n",
       "    </tr>\n",
       "    <tr>\n",
       "      <th>guzzler</th>\n",
       "      <td>2627</td>\n",
       "      <td>3</td>\n",
       "      <td>G</td>\n",
       "      <td>1648</td>\n",
       "    </tr>\n",
       "    <tr>\n",
       "      <th>trans_dscr</th>\n",
       "      <td>15044</td>\n",
       "      <td>52</td>\n",
       "      <td>CLKUP</td>\n",
       "      <td>7809</td>\n",
       "    </tr>\n",
       "    <tr>\n",
       "      <th>tCharger</th>\n",
       "      <td>8890</td>\n",
       "      <td>1</td>\n",
       "      <td>T</td>\n",
       "      <td>8890</td>\n",
       "    </tr>\n",
       "    <tr>\n",
       "      <th>sCharger</th>\n",
       "      <td>966</td>\n",
       "      <td>1</td>\n",
       "      <td>S</td>\n",
       "      <td>966</td>\n",
       "    </tr>\n",
       "    <tr>\n",
       "      <th>atvType</th>\n",
       "      <td>4332</td>\n",
       "      <td>8</td>\n",
       "      <td>FFV</td>\n",
       "      <td>1498</td>\n",
       "    </tr>\n",
       "    <tr>\n",
       "      <th>fuelType2</th>\n",
       "      <td>1800</td>\n",
       "      <td>4</td>\n",
       "      <td>E85</td>\n",
       "      <td>1498</td>\n",
       "    </tr>\n",
       "    <tr>\n",
       "      <th>rangeA</th>\n",
       "      <td>1795</td>\n",
       "      <td>237</td>\n",
       "      <td>290</td>\n",
       "      <td>74</td>\n",
       "    </tr>\n",
       "    <tr>\n",
       "      <th>evMotor</th>\n",
       "      <td>1518</td>\n",
       "      <td>263</td>\n",
       "      <td>48V Li-Ion</td>\n",
       "      <td>180</td>\n",
       "    </tr>\n",
       "    <tr>\n",
       "      <th>mfrCode</th>\n",
       "      <td>14018</td>\n",
       "      <td>52</td>\n",
       "      <td>GMX</td>\n",
       "      <td>2041</td>\n",
       "    </tr>\n",
       "    <tr>\n",
       "      <th>c240Dscr</th>\n",
       "      <td>131</td>\n",
       "      <td>5</td>\n",
       "      <td>standard charger</td>\n",
       "      <td>120</td>\n",
       "    </tr>\n",
       "    <tr>\n",
       "      <th>c240bDscr</th>\n",
       "      <td>125</td>\n",
       "      <td>7</td>\n",
       "      <td>80 amp dual charger</td>\n",
       "      <td>55</td>\n",
       "    </tr>\n",
       "    <tr>\n",
       "      <th>createdOn</th>\n",
       "      <td>44826</td>\n",
       "      <td>404</td>\n",
       "      <td>Tue Jan 01 00:00:00 EST 2013</td>\n",
       "      <td>34194</td>\n",
       "    </tr>\n",
       "    <tr>\n",
       "      <th>modifiedOn</th>\n",
       "      <td>44826</td>\n",
       "      <td>247</td>\n",
       "      <td>Tue Jan 01 00:00:00 EST 2013</td>\n",
       "      <td>29175</td>\n",
       "    </tr>\n",
       "    <tr>\n",
       "      <th>startStop</th>\n",
       "      <td>13137</td>\n",
       "      <td>2</td>\n",
       "      <td>N</td>\n",
       "      <td>7674</td>\n",
       "    </tr>\n",
       "  </tbody>\n",
       "</table>\n",
       "</div>"
      ],
      "text/plain": [
       "            count unique                           top   freq\n",
       "drive       43640      7             Front-Wheel Drive  15028\n",
       "eng_dscr    28030    573                         (FFS)   8827\n",
       "fuelType    44826     14                       Regular  27948\n",
       "fuelType1   44826      6              Regular Gasoline  29429\n",
       "make        44826    141                     Chevrolet   4270\n",
       "model       44826   4623               F150 Pickup 2WD    230\n",
       "mpgData     44787      2                             N  30930\n",
       "trany       44815     40               Automatic 4-spd  11048\n",
       "VClass      44826     34                  Compact Cars   6189\n",
       "guzzler      2627      3                             G   1648\n",
       "trans_dscr  15044     52                         CLKUP   7809\n",
       "tCharger     8890      1                             T   8890\n",
       "sCharger      966      1                             S    966\n",
       "atvType      4332      8                           FFV   1498\n",
       "fuelType2    1800      4                           E85   1498\n",
       "rangeA       1795    237                           290     74\n",
       "evMotor      1518    263                    48V Li-Ion    180\n",
       "mfrCode     14018     52                           GMX   2041\n",
       "c240Dscr      131      5              standard charger    120\n",
       "c240bDscr     125      7           80 amp dual charger     55\n",
       "createdOn   44826    404  Tue Jan 01 00:00:00 EST 2013  34194\n",
       "modifiedOn  44826    247  Tue Jan 01 00:00:00 EST 2013  29175\n",
       "startStop   13137      2                             N   7674"
      ]
     },
     "execution_count": 8,
     "metadata": {},
     "output_type": "execute_result"
    }
   ],
   "source": [
    "fueleco.select_dtypes(include='O').describe().T"
   ]
  },
  {
   "cell_type": "code",
   "execution_count": null,
   "id": "e3db1fa5-3a4d-442a-b416-4c18e0b1ec00",
   "metadata": {},
   "outputs": [],
   "source": [
    "# fuelType 그래프 그리기 1"
   ]
  },
  {
   "cell_type": "code",
   "execution_count": 9,
   "id": "0d33ffd7-82fe-4359-bc14-5f105f0a8298",
   "metadata": {},
   "outputs": [
    {
     "data": {
      "text/plain": [
       "Regular                        27948\n",
       "Premium                        13272\n",
       "Gasoline or E85                 1371\n",
       "Diesel                          1232\n",
       "Electricity                      372\n",
       "Midgrade                         142\n",
       "Premium and Electricity          137\n",
       "Premium or E85                   127\n",
       "Regular Gas and Electricity       78\n",
       "CNG                               60\n",
       "Premium Gas or Electricity        55\n",
       "Gasoline or natural gas           20\n",
       "Gasoline or propane                8\n",
       "Regular Gas or Electricity         4\n",
       "Name: fuelType, dtype: int64"
      ]
     },
     "execution_count": 9,
     "metadata": {},
     "output_type": "execute_result"
    }
   ],
   "source": [
    "fueleco.fuelType.value_counts()"
   ]
  },
  {
   "cell_type": "code",
   "execution_count": 11,
   "id": "87468a47-dbc2-4377-8fb3-691f90a34c7d",
   "metadata": {},
   "outputs": [
    {
     "data": {
      "text/plain": [
       "Index(['Regular', 'Premium', 'Gasoline or E85', 'Diesel', 'Electricity'], dtype='object')"
      ]
     },
     "execution_count": 11,
     "metadata": {},
     "output_type": "execute_result"
    }
   ],
   "source": [
    "top_n= fueleco.fuelType.value_counts().index[:5]\n",
    "top_n"
   ]
  },
  {
   "cell_type": "code",
   "execution_count": 12,
   "id": "2fe1b78d-7955-4c2c-9ad3-734e5e5dd47b",
   "metadata": {},
   "outputs": [
    {
     "data": {
      "text/plain": [
       "<AxesSubplot:>"
      ]
     },
     "execution_count": 12,
     "metadata": {},
     "output_type": "execute_result"
    },
    {
     "data": {
      "image/png": "[encoded data removed]",
      "text/plain": [
       "<Figure size 720x576 with 1 Axes>"
      ]
     },
     "metadata": {
      "needs_background": "light"
     },
     "output_type": "display_data"
    }
   ],
   "source": [
    "fig, ax= plt.subplots(figsize=(10,8))\n",
    "\n",
    "(\n",
    "    fueleco.assign(\n",
    "        fuelType=fueleco.fuelType.where(fueleco.fuelType.isin(top_n),'Other'))\n",
    "    .fuelType.value_counts()\n",
    "    .plot.bar(ax=ax)\n",
    ")"
   ]
  },
  {
   "cell_type": "code",
   "execution_count": null,
   "id": "a4312fc6-c861-4ada-9bb6-6ea363f39028",
   "metadata": {},
   "outputs": [],
   "source": []
  },
  {
   "cell_type": "code",
   "execution_count": null,
   "id": "0b08ecfe-b312-4d6b-9e8c-df3bf630990d",
   "metadata": {},
   "outputs": [],
   "source": [
    "# UHighway를 이용해서 연속적 수치 그래프 그리기. (히스토그램)"
   ]
  },
  {
   "cell_type": "code",
   "execution_count": 13,
   "id": "634e8876-4aab-4dab-b832-d85c1ce78014",
   "metadata": {},
   "outputs": [
    {
     "data": {
      "text/plain": [
       "count    44826.000000\n",
       "mean        35.057721\n",
       "std         12.741351\n",
       "min          0.000000\n",
       "25%         28.000000\n",
       "50%         33.500000\n",
       "75%         39.600000\n",
       "max        187.100000\n",
       "Name: UHighway, dtype: float64"
      ]
     },
     "execution_count": 13,
     "metadata": {},
     "output_type": "execute_result"
    }
   ],
   "source": [
    "fueleco.UHighway.describe().T         "
   ]
  },
  {
   "cell_type": "code",
   "execution_count": 15,
   "id": "aef97659-18e7-43bc-af54-4af3ab017b69",
   "metadata": {},
   "outputs": [
    {
     "data": {
      "text/plain": [
       "<AxesSubplot:>"
      ]
     },
     "execution_count": 15,
     "metadata": {},
     "output_type": "execute_result"
    },
    {
     "data": {
      "image/png": "[encoded data removed]",
      "text/plain": [
       "<Figure size 720x576 with 1 Axes>"
      ]
     },
     "metadata": {
      "needs_background": "light"
     },
     "output_type": "display_data"
    }
   ],
   "source": [
    "fig, ax= plt.subplots(figsize=(10,8))\n",
    "fueleco.UHighway.hist(ax=ax, bins=50)"
   ]
  },
  {
   "cell_type": "code",
   "execution_count": 22,
   "id": "70c9e01a-e239-4ae9-beeb-0ebe8a63c723",
   "metadata": {},
   "outputs": [
    {
     "data": {
      "text/plain": [
       "<AxesSubplot:xlabel='Count', ylabel='UHighway'>"
      ]
     },
     "execution_count": 22,
     "metadata": {},
     "output_type": "execute_result"
    },
    {
     "data": {
      "image/png": "[encoded data removed]",
      "text/plain": [
       "<Figure size 720x576 with 1 Axes>"
      ]
     },
     "metadata": {
      "needs_background": "light"
     },
     "output_type": "display_data"
    }
   ],
   "source": [
    "fig, ax= plt.subplots(figsize=(10,8))\n",
    "sns.histplot(data=fueleco,y='UHighway',hue='fuelType1', ax=ax, binwidth=1)"
   ]
  },
  {
   "cell_type": "code",
   "execution_count": null,
   "id": "15f3a38a-e075-4bb0-820d-64d999dc29c7",
   "metadata": {},
   "outputs": [],
   "source": [
    "# fuelType과 UHighway이용하여, 범주간 연속 값 비교, groupby를 이용"
   ]
  },
  {
   "cell_type": "code",
   "execution_count": 23,
   "id": "4b73b160-3404-4866-bd58-2f07cbd0ae74",
   "metadata": {},
   "outputs": [
    {
     "data": {
      "text/html": [
       "<div>\n",
       "<style scoped>\n",
       "    .dataframe tbody tr th:only-of-type {\n",
       "        vertical-align: middle;\n",
       "    }\n",
       "\n",
       "    .dataframe tbody tr th {\n",
       "        vertical-align: top;\n",
       "    }\n",
       "\n",
       "    .dataframe thead th {\n",
       "        text-align: right;\n",
       "    }\n",
       "</style>\n",
       "<table border=\"1\" class=\"dataframe\">\n",
       "  <thead>\n",
       "    <tr style=\"text-align: right;\">\n",
       "      <th></th>\n",
       "      <th>mean</th>\n",
       "      <th>std</th>\n",
       "      <th>min</th>\n",
       "      <th>max</th>\n",
       "    </tr>\n",
       "    <tr>\n",
       "      <th>fuelType</th>\n",
       "      <th></th>\n",
       "      <th></th>\n",
       "      <th></th>\n",
       "      <th></th>\n",
       "    </tr>\n",
       "  </thead>\n",
       "  <tbody>\n",
       "    <tr>\n",
       "      <th>Diesel</th>\n",
       "      <td>39.833496</td>\n",
       "      <td>12.249628</td>\n",
       "      <td>22.000</td>\n",
       "      <td>77.7000</td>\n",
       "    </tr>\n",
       "    <tr>\n",
       "      <th>Electricity</th>\n",
       "      <td>130.896349</td>\n",
       "      <td>24.579151</td>\n",
       "      <td>39.186</td>\n",
       "      <td>187.1000</td>\n",
       "    </tr>\n",
       "    <tr>\n",
       "      <th>Gasoline or E85</th>\n",
       "      <td>30.435621</td>\n",
       "      <td>7.318870</td>\n",
       "      <td>0.000</td>\n",
       "      <td>57.6000</td>\n",
       "    </tr>\n",
       "    <tr>\n",
       "      <th>Premium</th>\n",
       "      <td>34.060289</td>\n",
       "      <td>7.152419</td>\n",
       "      <td>13.000</td>\n",
       "      <td>65.3000</td>\n",
       "    </tr>\n",
       "    <tr>\n",
       "      <th>Regular</th>\n",
       "      <td>34.236776</td>\n",
       "      <td>9.464115</td>\n",
       "      <td>0.000</td>\n",
       "      <td>89.2029</td>\n",
       "    </tr>\n",
       "  </tbody>\n",
       "</table>\n",
       "</div>"
      ],
      "text/plain": [
       "                       mean        std     min       max\n",
       "fuelType                                                \n",
       "Diesel            39.833496  12.249628  22.000   77.7000\n",
       "Electricity      130.896349  24.579151  39.186  187.1000\n",
       "Gasoline or E85   30.435621   7.318870   0.000   57.6000\n",
       "Premium           34.060289   7.152419  13.000   65.3000\n",
       "Regular           34.236776   9.464115   0.000   89.2029"
      ]
     },
     "execution_count": 23,
     "metadata": {},
     "output_type": "execute_result"
    }
   ],
   "source": [
    "mask= fueleco.fuelType.isin(['Regular', 'Premium', 'Gasoline or E85', 'Diesel', 'Electricity'])\n",
    "fueleco[mask].groupby('fuelType').UHighway.agg(['mean','std','min','max'])"
   ]
  },
  {
   "cell_type": "code",
   "execution_count": 26,
   "id": "7d157ff1-dbab-480a-86a7-aa403e56c306",
   "metadata": {},
   "outputs": [
    {
     "data": {
      "text/plain": [
       "<seaborn.axisgrid.FacetGrid at 0x2d0b23f3e50>"
      ]
     },
     "execution_count": 26,
     "metadata": {},
     "output_type": "execute_result"
    },
    {
     "data": {
      "image/png": "[encoded data removed]",
      "text/plain": [
       "<Figure size 720x720 with 4 Axes>"
      ]
     },
     "metadata": {
      "needs_background": "light"
     },
     "output_type": "display_data"
    }
   ],
   "source": [
    "# col이용하여, 지정된 year마다 그래프 그려준다. \n",
    "\n",
    "sns.catplot(data=fueleco[mask], x='fuelType',y='UHighway',kind='box',\n",
    "    col='year',\n",
    "    col_order=[2008,2012,2016,2020],\n",
    "    col_wrap=2 )"
   ]
  },
  {
   "cell_type": "code",
   "execution_count": null,
   "id": "c34351e9-082a-4263-90c3-0cdd0533a2eb",
   "metadata": {},
   "outputs": [],
   "source": [
    "# 두개의 연속 열 비교 ('barrels08','displ','cylinders','UHighway')이용. \n",
    "# 상관관계 사용."
   ]
  },
  {
   "cell_type": "code",
   "execution_count": 27,
   "id": "d9c95f93-7974-4e2a-8808-17528f00c464",
   "metadata": {},
   "outputs": [
    {
     "data": {
      "text/html": [
       "<div>\n",
       "<style scoped>\n",
       "    .dataframe tbody tr th:only-of-type {\n",
       "        vertical-align: middle;\n",
       "    }\n",
       "\n",
       "    .dataframe tbody tr th {\n",
       "        vertical-align: top;\n",
       "    }\n",
       "\n",
       "    .dataframe thead th {\n",
       "        text-align: right;\n",
       "    }\n",
       "</style>\n",
       "<table border=\"1\" class=\"dataframe\">\n",
       "  <thead>\n",
       "    <tr style=\"text-align: right;\">\n",
       "      <th></th>\n",
       "      <th>barrels08</th>\n",
       "      <th>displ</th>\n",
       "      <th>cylinders</th>\n",
       "      <th>UHighway</th>\n",
       "    </tr>\n",
       "  </thead>\n",
       "  <tbody>\n",
       "    <tr>\n",
       "      <th>barrels08</th>\n",
       "      <td>1.000000</td>\n",
       "      <td>0.784485</td>\n",
       "      <td>0.733524</td>\n",
       "      <td>-0.822036</td>\n",
       "    </tr>\n",
       "    <tr>\n",
       "      <th>displ</th>\n",
       "      <td>0.784485</td>\n",
       "      <td>1.000000</td>\n",
       "      <td>0.905258</td>\n",
       "      <td>-0.703567</td>\n",
       "    </tr>\n",
       "    <tr>\n",
       "      <th>cylinders</th>\n",
       "      <td>0.733524</td>\n",
       "      <td>0.905258</td>\n",
       "      <td>1.000000</td>\n",
       "      <td>-0.646845</td>\n",
       "    </tr>\n",
       "    <tr>\n",
       "      <th>UHighway</th>\n",
       "      <td>-0.822036</td>\n",
       "      <td>-0.703567</td>\n",
       "      <td>-0.646845</td>\n",
       "      <td>1.000000</td>\n",
       "    </tr>\n",
       "  </tbody>\n",
       "</table>\n",
       "</div>"
      ],
      "text/plain": [
       "           barrels08     displ  cylinders  UHighway\n",
       "barrels08   1.000000  0.784485   0.733524 -0.822036\n",
       "displ       0.784485  1.000000   0.905258 -0.703567\n",
       "cylinders   0.733524  0.905258   1.000000 -0.646845\n",
       "UHighway   -0.822036 -0.703567  -0.646845  1.000000"
      ]
     },
     "execution_count": 27,
     "metadata": {},
     "output_type": "execute_result"
    }
   ],
   "source": [
    "fueleco[['barrels08','displ','cylinders','UHighway']].corr()      "
   ]
  },
  {
   "cell_type": "code",
   "execution_count": 28,
   "id": "76b417fd-ed39-4691-a505-0d5c552660d6",
   "metadata": {},
   "outputs": [
    {
     "data": {
      "text/plain": [
       "array([[ True,  True,  True,  True],\n",
       "       [False,  True,  True,  True],\n",
       "       [False, False,  True,  True],\n",
       "       [False, False, False,  True]])"
      ]
     },
     "execution_count": 28,
     "metadata": {},
     "output_type": "execute_result"
    }
   ],
   "source": [
    "corr= fueleco[['barrels08','displ','cylinders','UHighway']].corr()      \n",
    "\n",
    "mask= np.zeros_like(corr, dtype=bool)\n",
    "mask[np.triu_indices_from(mask)]=True\n",
    "mask"
   ]
  },
  {
   "cell_type": "code",
   "execution_count": 29,
   "id": "636bc07a-c60e-48eb-bd9c-2126e633a5fa",
   "metadata": {},
   "outputs": [
    {
     "data": {
      "text/plain": [
       "<AxesSubplot:>"
      ]
     },
     "execution_count": 29,
     "metadata": {},
     "output_type": "execute_result"
    },
    {
     "data": {
      "image/png": "[encoded data removed]",
      "text/plain": [
       "<Figure size 576x576 with 2 Axes>"
      ]
     },
     "metadata": {
      "needs_background": "light"
     },
     "output_type": "display_data"
    }
   ],
   "source": [
    "# 그래프를 통해 한 눈에 요소간 상관관계 파악 할 수 있음.\n",
    "\n",
    "fig, ax=plt.subplots(figsize=(8,8))\n",
    "corr= fueleco[['barrels08','displ','cylinders','UHighway']].corr()      \n",
    "\n",
    "mask= np.zeros_like(corr, dtype=bool)\n",
    "mask[np.triu_indices_from(mask)]=True\n",
    "sns.heatmap(\n",
    "    corr,\n",
    "    mask=mask,\n",
    "    fmt='.2f',\n",
    "    annot=True,\n",
    "    ax=ax,\n",
    "    cmap='RdBu',\n",
    "    vmax=1,\n",
    "    vmin=-1,\n",
    "    square=True\n",
    ")"
   ]
  },
  {
   "cell_type": "code",
   "execution_count": null,
   "id": "628d2cd4-48b4-40cc-a345-a9eb69498001",
   "metadata": {},
   "outputs": [],
   "source": []
  }
 ],
 "metadata": {
  "kernelspec": {
   "display_name": "Python 3 (ipykernel)",
   "language": "python",
   "name": "python3"
  },
  "language_info": {
   "codemirror_mode": {
    "name": "ipython",
    "version": 3
   },
   "file_extension": ".py",
   "mimetype": "text/x-python",
   "name": "python",
   "nbconvert_exporter": "python",
   "pygments_lexer": "ipython3",
   "version": "3.9.7"
  }
 },
 "nbformat": 4,
 "nbformat_minor": 5
}
